{
 "cells": [
  {
   "cell_type": "code",
   "execution_count": null,
   "id": "8b524c9c",
   "metadata": {},
   "outputs": [],
   "source": [
    "import cv2\n",
    "import numpy as np\n",
    "import requests\n",
    "from PIL import Image\n",
    "import io\n",
    "\n",
    "jetbot_ip = '194.47.156.22'\n",
    "\n",
    "\n",
    "# Parametrar\n",
    "KNOWN_WIDTH = 3.5  # iPhone bredd i cm\n",
    "FOCAL_LENGTH = 500  # Byt till kalibrerat värde!\n",
    "\n",
    "def get_jetbot_frame(jetbot_ip):\n",
    "    response = requests.get(f'http://{jetbot_ip}:8080/camera')\n",
    "    image = Image.open(io.BytesIO(response.content))\n",
    "    frame = cv2.cvtColor(np.array(image), cv2.COLOR_RGB2BGR)\n",
    "    return frame\n",
    "\n",
    "while True:\n",
    "    try:\n",
    "        frame = get_jetbot_frame(jetbot_ip)\n",
    "\n",
    "        # LAB konvertering\n",
    "        lab = cv2.cvtColor(frame, cv2.COLOR_BGR2LAB)\n",
    "        L, A, B = cv2.split(lab)\n",
    "        _, mask = cv2.threshold(A, 150, 255, cv2.THRESH_BINARY)\n",
    "\n",
    "        kernel = np.ones((5,5), np.uint8)\n",
    "        mask = cv2.morphologyEx(mask, cv2.MORPH_OPEN, kernel)\n",
    "        mask = cv2.morphologyEx(mask, cv2.MORPH_DILATE, kernel)\n",
    "\n",
    "        contours, _ = cv2.findContours(mask, cv2.RETR_EXTERNAL, cv2.CHAIN_APPROX_SIMPLE)\n",
    "\n",
    "        for contour in contours:\n",
    "            area = cv2.contourArea(contour)\n",
    "            if area > 15:\n",
    "                x, y, w, h = cv2.boundingRect(contour)\n",
    "                cv2.rectangle(frame, (x, y), (x + w, y + h), (0, 255, 0), 3)\n",
    "\n",
    "                # Avståndsberäkning\n",
    "                distance_cm = (KNOWN_WIDTH * FOCAL_LENGTH) / w\n",
    "                cv2.putText(frame, f\"Distance: {distance_cm:.2f} cm\", (x, y - 10),\n",
    "                            cv2.FONT_HERSHEY_SIMPLEX, 0.7, (0,255,0), 2)\n",
    "\n",
    "        # Visa\n",
    "        cv2.imshow(\"Jetbot Red Object + Distance\", frame)\n",
    "        if cv2.waitKey(1) & 0xFF == ord('q'):\n",
    "            break\n",
    "\n",
    "    except Exception as e:\n",
    "        print(f\"Error: {e}\")\n",
    "\n",
    "cv2.destroyAllWindows()\n"
   ]
  }
 ],
 "metadata": {
  "kernelspec": {
   "display_name": "base",
   "language": "python",
   "name": "python3"
  },
  "language_info": {
   "codemirror_mode": {
    "name": "ipython",
    "version": 3
   },
   "file_extension": ".py",
   "mimetype": "text/x-python",
   "name": "python",
   "nbconvert_exporter": "python",
   "pygments_lexer": "ipython3",
   "version": "3.8.12"
  }
 },
 "nbformat": 4,
 "nbformat_minor": 5
}
